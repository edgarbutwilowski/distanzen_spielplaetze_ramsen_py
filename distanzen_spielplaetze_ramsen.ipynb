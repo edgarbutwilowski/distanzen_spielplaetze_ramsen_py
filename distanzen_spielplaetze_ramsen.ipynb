{
 "cells": [
  {
   "cell_type": "code",
   "execution_count": 1,
   "metadata": {},
   "outputs": [
    {
     "name": "stdout",
     "output_type": "stream",
     "text": [
      "Requirement already satisfied: geopandas==0.14.4 in x:\\users\\edgar\\vscode\\distanzen_spielplaetze_ramsen_py\\venv\\lib\\site-packages (0.14.4)\n",
      "Requirement already satisfied: fiona>=1.8.21 in x:\\users\\edgar\\vscode\\distanzen_spielplaetze_ramsen_py\\venv\\lib\\site-packages (from geopandas==0.14.4) (1.10.1)\n",
      "Requirement already satisfied: numpy>=1.22 in x:\\users\\edgar\\vscode\\distanzen_spielplaetze_ramsen_py\\venv\\lib\\site-packages (from geopandas==0.14.4) (1.26.4)\n",
      "Requirement already satisfied: packaging in x:\\users\\edgar\\vscode\\distanzen_spielplaetze_ramsen_py\\venv\\lib\\site-packages (from geopandas==0.14.4) (24.1)\n",
      "Requirement already satisfied: pandas>=1.4.0 in x:\\users\\edgar\\vscode\\distanzen_spielplaetze_ramsen_py\\venv\\lib\\site-packages (from geopandas==0.14.4) (2.2.3)\n",
      "Requirement already satisfied: pyproj>=3.3.0 in x:\\users\\edgar\\vscode\\distanzen_spielplaetze_ramsen_py\\venv\\lib\\site-packages (from geopandas==0.14.4) (3.7.0)\n",
      "Requirement already satisfied: shapely>=1.8.0 in x:\\users\\edgar\\vscode\\distanzen_spielplaetze_ramsen_py\\venv\\lib\\site-packages (from geopandas==0.14.4) (2.0.6)\n",
      "Requirement already satisfied: attrs>=19.2.0 in x:\\users\\edgar\\vscode\\distanzen_spielplaetze_ramsen_py\\venv\\lib\\site-packages (from fiona>=1.8.21->geopandas==0.14.4) (24.2.0)\n",
      "Requirement already satisfied: certifi in x:\\users\\edgar\\vscode\\distanzen_spielplaetze_ramsen_py\\venv\\lib\\site-packages (from fiona>=1.8.21->geopandas==0.14.4) (2024.8.30)\n",
      "Requirement already satisfied: click~=8.0 in x:\\users\\edgar\\vscode\\distanzen_spielplaetze_ramsen_py\\venv\\lib\\site-packages (from fiona>=1.8.21->geopandas==0.14.4) (8.1.7)\n",
      "Requirement already satisfied: click-plugins>=1.0 in x:\\users\\edgar\\vscode\\distanzen_spielplaetze_ramsen_py\\venv\\lib\\site-packages (from fiona>=1.8.21->geopandas==0.14.4) (1.1.1)\n",
      "Requirement already satisfied: cligj>=0.5 in x:\\users\\edgar\\vscode\\distanzen_spielplaetze_ramsen_py\\venv\\lib\\site-packages (from fiona>=1.8.21->geopandas==0.14.4) (0.7.2)\n",
      "Requirement already satisfied: python-dateutil>=2.8.2 in x:\\users\\edgar\\vscode\\distanzen_spielplaetze_ramsen_py\\venv\\lib\\site-packages (from pandas>=1.4.0->geopandas==0.14.4) (2.9.0.post0)\n",
      "Requirement already satisfied: pytz>=2020.1 in x:\\users\\edgar\\vscode\\distanzen_spielplaetze_ramsen_py\\venv\\lib\\site-packages (from pandas>=1.4.0->geopandas==0.14.4) (2024.2)\n",
      "Requirement already satisfied: tzdata>=2022.7 in x:\\users\\edgar\\vscode\\distanzen_spielplaetze_ramsen_py\\venv\\lib\\site-packages (from pandas>=1.4.0->geopandas==0.14.4) (2024.2)\n",
      "Requirement already satisfied: colorama in x:\\users\\edgar\\vscode\\distanzen_spielplaetze_ramsen_py\\venv\\lib\\site-packages (from click~=8.0->fiona>=1.8.21->geopandas==0.14.4) (0.4.6)\n",
      "Requirement already satisfied: six>=1.5 in x:\\users\\edgar\\vscode\\distanzen_spielplaetze_ramsen_py\\venv\\lib\\site-packages (from python-dateutil>=2.8.2->pandas>=1.4.0->geopandas==0.14.4) (1.16.0)\n",
      "Requirement already satisfied: matplotlib==3.9.2 in x:\\users\\edgar\\vscode\\distanzen_spielplaetze_ramsen_py\\venv\\lib\\site-packages (3.9.2)\n",
      "Requirement already satisfied: contourpy>=1.0.1 in x:\\users\\edgar\\vscode\\distanzen_spielplaetze_ramsen_py\\venv\\lib\\site-packages (from matplotlib==3.9.2) (1.3.0)\n",
      "Requirement already satisfied: cycler>=0.10 in x:\\users\\edgar\\vscode\\distanzen_spielplaetze_ramsen_py\\venv\\lib\\site-packages (from matplotlib==3.9.2) (0.12.1)\n",
      "Requirement already satisfied: fonttools>=4.22.0 in x:\\users\\edgar\\vscode\\distanzen_spielplaetze_ramsen_py\\venv\\lib\\site-packages (from matplotlib==3.9.2) (4.54.1)\n",
      "Requirement already satisfied: kiwisolver>=1.3.1 in x:\\users\\edgar\\vscode\\distanzen_spielplaetze_ramsen_py\\venv\\lib\\site-packages (from matplotlib==3.9.2) (1.4.7)\n",
      "Requirement already satisfied: numpy>=1.23 in x:\\users\\edgar\\vscode\\distanzen_spielplaetze_ramsen_py\\venv\\lib\\site-packages (from matplotlib==3.9.2) (1.26.4)\n",
      "Requirement already satisfied: packaging>=20.0 in x:\\users\\edgar\\vscode\\distanzen_spielplaetze_ramsen_py\\venv\\lib\\site-packages (from matplotlib==3.9.2) (24.1)\n",
      "Requirement already satisfied: pillow>=8 in x:\\users\\edgar\\vscode\\distanzen_spielplaetze_ramsen_py\\venv\\lib\\site-packages (from matplotlib==3.9.2) (10.4.0)\n",
      "Requirement already satisfied: pyparsing>=2.3.1 in x:\\users\\edgar\\vscode\\distanzen_spielplaetze_ramsen_py\\venv\\lib\\site-packages (from matplotlib==3.9.2) (3.1.4)\n",
      "Requirement already satisfied: python-dateutil>=2.7 in x:\\users\\edgar\\vscode\\distanzen_spielplaetze_ramsen_py\\venv\\lib\\site-packages (from matplotlib==3.9.2) (2.9.0.post0)\n",
      "Requirement already satisfied: six>=1.5 in x:\\users\\edgar\\vscode\\distanzen_spielplaetze_ramsen_py\\venv\\lib\\site-packages (from python-dateutil>=2.7->matplotlib==3.9.2) (1.16.0)\n",
      "Requirement already satisfied: osmnx==1.9.4 in x:\\users\\edgar\\vscode\\distanzen_spielplaetze_ramsen_py\\venv\\lib\\site-packages (1.9.4)\n",
      "Requirement already satisfied: geopandas<0.15,>=0.12 in x:\\users\\edgar\\vscode\\distanzen_spielplaetze_ramsen_py\\venv\\lib\\site-packages (from osmnx==1.9.4) (0.14.4)\n",
      "Requirement already satisfied: networkx<3.4,>=2.5 in x:\\users\\edgar\\vscode\\distanzen_spielplaetze_ramsen_py\\venv\\lib\\site-packages (from osmnx==1.9.4) (3.3)\n",
      "Requirement already satisfied: numpy<1.27,>=1.20 in x:\\users\\edgar\\vscode\\distanzen_spielplaetze_ramsen_py\\venv\\lib\\site-packages (from osmnx==1.9.4) (1.26.4)\n",
      "Requirement already satisfied: pandas<2.3,>=1.1 in x:\\users\\edgar\\vscode\\distanzen_spielplaetze_ramsen_py\\venv\\lib\\site-packages (from osmnx==1.9.4) (2.2.3)\n",
      "Requirement already satisfied: requests<2.33,>=2.27 in x:\\users\\edgar\\vscode\\distanzen_spielplaetze_ramsen_py\\venv\\lib\\site-packages (from osmnx==1.9.4) (2.32.3)\n",
      "Requirement already satisfied: shapely<2.1,>=2.0 in x:\\users\\edgar\\vscode\\distanzen_spielplaetze_ramsen_py\\venv\\lib\\site-packages (from osmnx==1.9.4) (2.0.6)\n",
      "Requirement already satisfied: fiona>=1.8.21 in x:\\users\\edgar\\vscode\\distanzen_spielplaetze_ramsen_py\\venv\\lib\\site-packages (from geopandas<0.15,>=0.12->osmnx==1.9.4) (1.10.1)\n",
      "Requirement already satisfied: packaging in x:\\users\\edgar\\vscode\\distanzen_spielplaetze_ramsen_py\\venv\\lib\\site-packages (from geopandas<0.15,>=0.12->osmnx==1.9.4) (24.1)\n",
      "Requirement already satisfied: pyproj>=3.3.0 in x:\\users\\edgar\\vscode\\distanzen_spielplaetze_ramsen_py\\venv\\lib\\site-packages (from geopandas<0.15,>=0.12->osmnx==1.9.4) (3.7.0)\n",
      "Requirement already satisfied: python-dateutil>=2.8.2 in x:\\users\\edgar\\vscode\\distanzen_spielplaetze_ramsen_py\\venv\\lib\\site-packages (from pandas<2.3,>=1.1->osmnx==1.9.4) (2.9.0.post0)\n",
      "Requirement already satisfied: pytz>=2020.1 in x:\\users\\edgar\\vscode\\distanzen_spielplaetze_ramsen_py\\venv\\lib\\site-packages (from pandas<2.3,>=1.1->osmnx==1.9.4) (2024.2)\n",
      "Requirement already satisfied: tzdata>=2022.7 in x:\\users\\edgar\\vscode\\distanzen_spielplaetze_ramsen_py\\venv\\lib\\site-packages (from pandas<2.3,>=1.1->osmnx==1.9.4) (2024.2)\n",
      "Requirement already satisfied: charset-normalizer<4,>=2 in x:\\users\\edgar\\vscode\\distanzen_spielplaetze_ramsen_py\\venv\\lib\\site-packages (from requests<2.33,>=2.27->osmnx==1.9.4) (3.3.2)\n",
      "Requirement already satisfied: idna<4,>=2.5 in x:\\users\\edgar\\vscode\\distanzen_spielplaetze_ramsen_py\\venv\\lib\\site-packages (from requests<2.33,>=2.27->osmnx==1.9.4) (3.10)\n",
      "Requirement already satisfied: urllib3<3,>=1.21.1 in x:\\users\\edgar\\vscode\\distanzen_spielplaetze_ramsen_py\\venv\\lib\\site-packages (from requests<2.33,>=2.27->osmnx==1.9.4) (2.2.3)\n",
      "Requirement already satisfied: certifi>=2017.4.17 in x:\\users\\edgar\\vscode\\distanzen_spielplaetze_ramsen_py\\venv\\lib\\site-packages (from requests<2.33,>=2.27->osmnx==1.9.4) (2024.8.30)\n",
      "Requirement already satisfied: attrs>=19.2.0 in x:\\users\\edgar\\vscode\\distanzen_spielplaetze_ramsen_py\\venv\\lib\\site-packages (from fiona>=1.8.21->geopandas<0.15,>=0.12->osmnx==1.9.4) (24.2.0)\n",
      "Requirement already satisfied: click~=8.0 in x:\\users\\edgar\\vscode\\distanzen_spielplaetze_ramsen_py\\venv\\lib\\site-packages (from fiona>=1.8.21->geopandas<0.15,>=0.12->osmnx==1.9.4) (8.1.7)\n",
      "Requirement already satisfied: click-plugins>=1.0 in x:\\users\\edgar\\vscode\\distanzen_spielplaetze_ramsen_py\\venv\\lib\\site-packages (from fiona>=1.8.21->geopandas<0.15,>=0.12->osmnx==1.9.4) (1.1.1)\n",
      "Requirement already satisfied: cligj>=0.5 in x:\\users\\edgar\\vscode\\distanzen_spielplaetze_ramsen_py\\venv\\lib\\site-packages (from fiona>=1.8.21->geopandas<0.15,>=0.12->osmnx==1.9.4) (0.7.2)\n",
      "Requirement already satisfied: six>=1.5 in x:\\users\\edgar\\vscode\\distanzen_spielplaetze_ramsen_py\\venv\\lib\\site-packages (from python-dateutil>=2.8.2->pandas<2.3,>=1.1->osmnx==1.9.4) (1.16.0)\n",
      "Requirement already satisfied: colorama in x:\\users\\edgar\\vscode\\distanzen_spielplaetze_ramsen_py\\venv\\lib\\site-packages (from click~=8.0->fiona>=1.8.21->geopandas<0.15,>=0.12->osmnx==1.9.4) (0.4.6)\n"
     ]
    }
   ],
   "source": [
    "!pip install geopandas==0.14.4\n",
    "!pip install matplotlib==3.9.2\n",
    "!pip install osmnx==1.9.4"
   ]
  },
  {
   "cell_type": "code",
   "execution_count": 2,
   "metadata": {},
   "outputs": [],
   "source": [
    "import osmnx\n",
    "import geopandas\n",
    "import matplotlib"
   ]
  },
  {
   "cell_type": "code",
   "execution_count": 3,
   "metadata": {},
   "outputs": [
    {
     "data": {
      "text/plain": [
       "<networkx.classes.multidigraph.MultiDiGraph at 0x1a30ea78f50>"
      ]
     },
     "execution_count": 3,
     "metadata": {},
     "output_type": "execute_result"
    }
   ],
   "source": [
    "wege_in_ramsen = osmnx.graph_from_place(\"Ramsen, Switzerland\")\n",
    "wege_in_ramsen"
   ]
  }
 ],
 "metadata": {
  "kernelspec": {
   "display_name": "venv",
   "language": "python",
   "name": "python3"
  },
  "language_info": {
   "codemirror_mode": {
    "name": "ipython",
    "version": 3
   },
   "file_extension": ".py",
   "mimetype": "text/x-python",
   "name": "python",
   "nbconvert_exporter": "python",
   "pygments_lexer": "ipython3",
   "version": "3.12.4"
  }
 },
 "nbformat": 4,
 "nbformat_minor": 2
}
